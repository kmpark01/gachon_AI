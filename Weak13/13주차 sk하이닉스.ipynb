{
 "cells": [
  {
   "cell_type": "code",
   "execution_count": 1,
   "id": "015dca03-1b99-4885-ac03-c90ad2c622f0",
   "metadata": {},
   "outputs": [],
   "source": [
    "import datetime\n",
    "import time\n",
    "import pandas as pd\n",
    "import numpy as np\n",
    "import matplotlib.pyplot as plt\n",
    "import tensorflow as tf"
   ]
  },
  {
   "cell_type": "code",
   "execution_count": 5,
   "id": "2617ad22-d43f-45c4-8eb1-95669125f98e",
   "metadata": {},
   "outputs": [
    {
     "name": "stdout",
     "output_type": "stream",
     "text": [
      "            일자     종목코드     종목명      거래량      시가      고가      저가      종가\n",
      "200   20210601  A000660  SK하이닉스  2819179  127000  129000  126000  128500\n",
      "2200  20210602  A000660  SK하이닉스  2885654  128500  129000  125500  126000\n",
      "4200  20210603  A000660  SK하이닉스  3353993  127000  130000  126500  129000\n",
      "6200  20210604  A000660  SK하이닉스  2555891  127500  129000  126500  128500\n",
      "8200  20210607  A000660  SK하이닉스  2562918  129500  130000  128000  128500\n"
     ]
    }
   ],
   "source": [
    "stock = pd.read_csv(\"C:/Users/rudal/OneDrive/Ai/stock.csv\")\n",
    "sk_stock = stock[stock['종목명'] == 'SK하이닉스']\n",
    "print(sk_stock.head())"
   ]
  },
  {
   "cell_type": "code",
   "execution_count": 6,
   "id": "d3ebcdcc-a65b-4184-a253-6de58bbb9d74",
   "metadata": {},
   "outputs": [],
   "source": [
    "stock.columns = ['Date', 'Code', 'Name', 'Volume', 'Open', 'High', 'Low','Close']"
   ]
  },
  {
   "cell_type": "code",
   "execution_count": 7,
   "id": "a23529aa-a971-4b3c-be3c-fedf2a1faf1e",
   "metadata": {},
   "outputs": [
    {
     "data": {
      "text/plain": [
       "Name\n",
       "3S         494\n",
       "유화증권       494\n",
       "이녹스        494\n",
       "이노테라피      494\n",
       "이노와이어리스    494\n",
       "          ... \n",
       "바이브컴퍼니     494\n",
       "바이넥스       494\n",
       "바른손이앤에이    494\n",
       "바른손        494\n",
       "힘스         494\n",
       "Name: count, Length: 2000, dtype: int64"
      ]
     },
     "execution_count": 7,
     "metadata": {},
     "output_type": "execute_result"
    }
   ],
   "source": [
    "\n",
    "stock['Name'].value_counts()"
   ]
  },
  {
   "cell_type": "code",
   "execution_count": 8,
   "id": "a24c7a99-cf0d-4238-85cd-a48823d60b05",
   "metadata": {},
   "outputs": [],
   "source": [
    "stock_AJ = stock[stock['Code']=='A000660']"
   ]
  },
  {
   "cell_type": "code",
   "execution_count": 9,
   "id": "08ec6236-06e0-42e5-8ef8-ffdf5bed7dcb",
   "metadata": {},
   "outputs": [],
   "source": [
    "stock_AJ = stock_AJ [['Date', 'Open', 'High', 'Low', 'Close', 'Volume']]"
   ]
  },
  {
   "cell_type": "code",
   "execution_count": 10,
   "id": "cbb6b66e-8a9e-49f1-b162-696fe6a51e0f",
   "metadata": {},
   "outputs": [
    {
     "data": {
      "text/html": [
       "<div>\n",
       "<style scoped>\n",
       "    .dataframe tbody tr th:only-of-type {\n",
       "        vertical-align: middle;\n",
       "    }\n",
       "\n",
       "    .dataframe tbody tr th {\n",
       "        vertical-align: top;\n",
       "    }\n",
       "\n",
       "    .dataframe thead th {\n",
       "        text-align: right;\n",
       "    }\n",
       "</style>\n",
       "<table border=\"1\" class=\"dataframe\">\n",
       "  <thead>\n",
       "    <tr style=\"text-align: right;\">\n",
       "      <th></th>\n",
       "      <th>Date</th>\n",
       "      <th>Open</th>\n",
       "      <th>High</th>\n",
       "      <th>Low</th>\n",
       "      <th>Close</th>\n",
       "      <th>Volume</th>\n",
       "    </tr>\n",
       "  </thead>\n",
       "  <tbody>\n",
       "    <tr>\n",
       "      <th>200</th>\n",
       "      <td>20210601</td>\n",
       "      <td>127000</td>\n",
       "      <td>129000</td>\n",
       "      <td>126000</td>\n",
       "      <td>128500</td>\n",
       "      <td>2819179</td>\n",
       "    </tr>\n",
       "    <tr>\n",
       "      <th>2200</th>\n",
       "      <td>20210602</td>\n",
       "      <td>128500</td>\n",
       "      <td>129000</td>\n",
       "      <td>125500</td>\n",
       "      <td>126000</td>\n",
       "      <td>2885654</td>\n",
       "    </tr>\n",
       "    <tr>\n",
       "      <th>4200</th>\n",
       "      <td>20210603</td>\n",
       "      <td>127000</td>\n",
       "      <td>130000</td>\n",
       "      <td>126500</td>\n",
       "      <td>129000</td>\n",
       "      <td>3353993</td>\n",
       "    </tr>\n",
       "    <tr>\n",
       "      <th>6200</th>\n",
       "      <td>20210604</td>\n",
       "      <td>127500</td>\n",
       "      <td>129000</td>\n",
       "      <td>126500</td>\n",
       "      <td>128500</td>\n",
       "      <td>2555891</td>\n",
       "    </tr>\n",
       "    <tr>\n",
       "      <th>8200</th>\n",
       "      <td>20210607</td>\n",
       "      <td>129500</td>\n",
       "      <td>130000</td>\n",
       "      <td>128000</td>\n",
       "      <td>128500</td>\n",
       "      <td>2562918</td>\n",
       "    </tr>\n",
       "    <tr>\n",
       "      <th>...</th>\n",
       "      <td>...</td>\n",
       "      <td>...</td>\n",
       "      <td>...</td>\n",
       "      <td>...</td>\n",
       "      <td>...</td>\n",
       "      <td>...</td>\n",
       "    </tr>\n",
       "    <tr>\n",
       "      <th>978200</th>\n",
       "      <td>20230523</td>\n",
       "      <td>99000</td>\n",
       "      <td>99000</td>\n",
       "      <td>97000</td>\n",
       "      <td>97900</td>\n",
       "      <td>2472514</td>\n",
       "    </tr>\n",
       "    <tr>\n",
       "      <th>980200</th>\n",
       "      <td>20230524</td>\n",
       "      <td>97400</td>\n",
       "      <td>97800</td>\n",
       "      <td>96300</td>\n",
       "      <td>97700</td>\n",
       "      <td>2097933</td>\n",
       "    </tr>\n",
       "    <tr>\n",
       "      <th>982200</th>\n",
       "      <td>20230525</td>\n",
       "      <td>104300</td>\n",
       "      <td>104300</td>\n",
       "      <td>101100</td>\n",
       "      <td>103500</td>\n",
       "      <td>7431586</td>\n",
       "    </tr>\n",
       "    <tr>\n",
       "      <th>984200</th>\n",
       "      <td>20230526</td>\n",
       "      <td>107500</td>\n",
       "      <td>110500</td>\n",
       "      <td>106100</td>\n",
       "      <td>109200</td>\n",
       "      <td>10136706</td>\n",
       "    </tr>\n",
       "    <tr>\n",
       "      <th>986200</th>\n",
       "      <td>20230530</td>\n",
       "      <td>113200</td>\n",
       "      <td>113400</td>\n",
       "      <td>109500</td>\n",
       "      <td>110300</td>\n",
       "      <td>9058509</td>\n",
       "    </tr>\n",
       "  </tbody>\n",
       "</table>\n",
       "<p>494 rows × 6 columns</p>\n",
       "</div>"
      ],
      "text/plain": [
       "            Date    Open    High     Low   Close    Volume\n",
       "200     20210601  127000  129000  126000  128500   2819179\n",
       "2200    20210602  128500  129000  125500  126000   2885654\n",
       "4200    20210603  127000  130000  126500  129000   3353993\n",
       "6200    20210604  127500  129000  126500  128500   2555891\n",
       "8200    20210607  129500  130000  128000  128500   2562918\n",
       "...          ...     ...     ...     ...     ...       ...\n",
       "978200  20230523   99000   99000   97000   97900   2472514\n",
       "980200  20230524   97400   97800   96300   97700   2097933\n",
       "982200  20230525  104300  104300  101100  103500   7431586\n",
       "984200  20230526  107500  110500  106100  109200  10136706\n",
       "986200  20230530  113200  113400  109500  110300   9058509\n",
       "\n",
       "[494 rows x 6 columns]"
      ]
     },
     "execution_count": 10,
     "metadata": {},
     "output_type": "execute_result"
    }
   ],
   "source": [
    "stock_AJ"
   ]
  },
  {
   "cell_type": "code",
   "execution_count": 11,
   "id": "8bfc4108-6b66-4a32-87c7-0e11d3ccbe07",
   "metadata": {},
   "outputs": [
    {
     "data": {
      "text/plain": [
       "Date\n",
       "20210601    1\n",
       "20221017    1\n",
       "20221013    1\n",
       "20221012    1\n",
       "20221011    1\n",
       "           ..\n",
       "20220120    1\n",
       "20220119    1\n",
       "20220118    1\n",
       "20220117    1\n",
       "20230530    1\n",
       "Name: count, Length: 494, dtype: int64"
      ]
     },
     "execution_count": 11,
     "metadata": {},
     "output_type": "execute_result"
    }
   ],
   "source": [
    "stock_AJ['Date'].value_counts()"
   ]
  },
  {
   "cell_type": "code",
   "execution_count": 13,
   "id": "06899cad-b414-4d0f-8861-257c89cb4e55",
   "metadata": {},
   "outputs": [],
   "source": [
    "def MinMaxScaler(data):\n",
    "    \"\"\"최솟값과 최댓값을 이용하여 0 ~ 1 값으로 변환\"\"\"\n",
    "    numerator = data - np.min(data, 0)\n",
    "    denominator = np.max(data, 0) - np.min(data, 0)\n",
    "    # 0으로 나누기 에러가 발생하지 않도록 매우 작은 값(1e-7)을 더해서 나눔\n",
    "    return numerator / (denominator + 1e-7)"
   ]
  },
  {
   "cell_type": "code",
   "execution_count": 14,
   "id": "ae5154dc-cc33-411c-87e6-746766ceccc0",
   "metadata": {},
   "outputs": [
    {
     "data": {
      "text/html": [
       "<div>\n",
       "<style scoped>\n",
       "    .dataframe tbody tr th:only-of-type {\n",
       "        vertical-align: middle;\n",
       "    }\n",
       "\n",
       "    .dataframe tbody tr th {\n",
       "        vertical-align: top;\n",
       "    }\n",
       "\n",
       "    .dataframe thead th {\n",
       "        text-align: right;\n",
       "    }\n",
       "</style>\n",
       "<table border=\"1\" class=\"dataframe\">\n",
       "  <thead>\n",
       "    <tr style=\"text-align: right;\">\n",
       "      <th></th>\n",
       "      <th>Open</th>\n",
       "      <th>High</th>\n",
       "      <th>Low</th>\n",
       "      <th>Volume</th>\n",
       "    </tr>\n",
       "  </thead>\n",
       "  <tbody>\n",
       "    <tr>\n",
       "      <th>200</th>\n",
       "      <td>0.912127</td>\n",
       "      <td>0.914384</td>\n",
       "      <td>0.929701</td>\n",
       "      <td>0.088068</td>\n",
       "    </tr>\n",
       "    <tr>\n",
       "      <th>2200</th>\n",
       "      <td>0.938489</td>\n",
       "      <td>0.914384</td>\n",
       "      <td>0.920914</td>\n",
       "      <td>0.091780</td>\n",
       "    </tr>\n",
       "    <tr>\n",
       "      <th>4200</th>\n",
       "      <td>0.912127</td>\n",
       "      <td>0.931507</td>\n",
       "      <td>0.938489</td>\n",
       "      <td>0.117931</td>\n",
       "    </tr>\n",
       "    <tr>\n",
       "      <th>6200</th>\n",
       "      <td>0.920914</td>\n",
       "      <td>0.914384</td>\n",
       "      <td>0.938489</td>\n",
       "      <td>0.073366</td>\n",
       "    </tr>\n",
       "    <tr>\n",
       "      <th>8200</th>\n",
       "      <td>0.956063</td>\n",
       "      <td>0.931507</td>\n",
       "      <td>0.964851</td>\n",
       "      <td>0.073758</td>\n",
       "    </tr>\n",
       "    <tr>\n",
       "      <th>...</th>\n",
       "      <td>...</td>\n",
       "      <td>...</td>\n",
       "      <td>...</td>\n",
       "      <td>...</td>\n",
       "    </tr>\n",
       "    <tr>\n",
       "      <th>978200</th>\n",
       "      <td>0.420035</td>\n",
       "      <td>0.400685</td>\n",
       "      <td>0.420035</td>\n",
       "      <td>0.068710</td>\n",
       "    </tr>\n",
       "    <tr>\n",
       "      <th>980200</th>\n",
       "      <td>0.391916</td>\n",
       "      <td>0.380137</td>\n",
       "      <td>0.407733</td>\n",
       "      <td>0.047794</td>\n",
       "    </tr>\n",
       "    <tr>\n",
       "      <th>982200</th>\n",
       "      <td>0.513181</td>\n",
       "      <td>0.491438</td>\n",
       "      <td>0.492091</td>\n",
       "      <td>0.345620</td>\n",
       "    </tr>\n",
       "    <tr>\n",
       "      <th>984200</th>\n",
       "      <td>0.569420</td>\n",
       "      <td>0.597603</td>\n",
       "      <td>0.579965</td>\n",
       "      <td>0.496671</td>\n",
       "    </tr>\n",
       "    <tr>\n",
       "      <th>986200</th>\n",
       "      <td>0.669596</td>\n",
       "      <td>0.647260</td>\n",
       "      <td>0.639719</td>\n",
       "      <td>0.436465</td>\n",
       "    </tr>\n",
       "  </tbody>\n",
       "</table>\n",
       "<p>494 rows × 4 columns</p>\n",
       "</div>"
      ],
      "text/plain": [
       "            Open      High       Low    Volume\n",
       "200     0.912127  0.914384  0.929701  0.088068\n",
       "2200    0.938489  0.914384  0.920914  0.091780\n",
       "4200    0.912127  0.931507  0.938489  0.117931\n",
       "6200    0.920914  0.914384  0.938489  0.073366\n",
       "8200    0.956063  0.931507  0.964851  0.073758\n",
       "...          ...       ...       ...       ...\n",
       "978200  0.420035  0.400685  0.420035  0.068710\n",
       "980200  0.391916  0.380137  0.407733  0.047794\n",
       "982200  0.513181  0.491438  0.492091  0.345620\n",
       "984200  0.569420  0.597603  0.579965  0.496671\n",
       "986200  0.669596  0.647260  0.639719  0.436465\n",
       "\n",
       "[494 rows x 4 columns]"
      ]
     },
     "execution_count": 14,
     "metadata": {},
     "output_type": "execute_result"
    }
   ],
   "source": [
    "dfx = stock_AJ[['Open','High','Low','Volume', 'Close']]\n",
    "dfx = MinMaxScaler(dfx)\n",
    "dfy = dfx[['Close']]\n",
    "dfx = dfx[['Open','High','Low','Volume']]\n",
    "dfx\n"
   ]
  },
  {
   "cell_type": "code",
   "execution_count": 15,
   "id": "01a6feda-244e-4370-a24e-01b22e1d69b4",
   "metadata": {},
   "outputs": [
    {
     "data": {
      "text/html": [
       "<div>\n",
       "<style scoped>\n",
       "    .dataframe tbody tr th:only-of-type {\n",
       "        vertical-align: middle;\n",
       "    }\n",
       "\n",
       "    .dataframe tbody tr th {\n",
       "        vertical-align: top;\n",
       "    }\n",
       "\n",
       "    .dataframe thead th {\n",
       "        text-align: right;\n",
       "    }\n",
       "</style>\n",
       "<table border=\"1\" class=\"dataframe\">\n",
       "  <thead>\n",
       "    <tr style=\"text-align: right;\">\n",
       "      <th></th>\n",
       "      <th>Open</th>\n",
       "      <th>High</th>\n",
       "      <th>Low</th>\n",
       "      <th>Volume</th>\n",
       "    </tr>\n",
       "  </thead>\n",
       "  <tbody>\n",
       "    <tr>\n",
       "      <th>count</th>\n",
       "      <td>494.000000</td>\n",
       "      <td>494.000000</td>\n",
       "      <td>494.000000</td>\n",
       "      <td>494.000000</td>\n",
       "    </tr>\n",
       "    <tr>\n",
       "      <th>mean</th>\n",
       "      <td>0.489288</td>\n",
       "      <td>0.489885</td>\n",
       "      <td>0.499552</td>\n",
       "      <td>0.121847</td>\n",
       "    </tr>\n",
       "    <tr>\n",
       "      <th>std</th>\n",
       "      <td>0.268807</td>\n",
       "      <td>0.264108</td>\n",
       "      <td>0.264492</td>\n",
       "      <td>0.099736</td>\n",
       "    </tr>\n",
       "    <tr>\n",
       "      <th>min</th>\n",
       "      <td>0.000000</td>\n",
       "      <td>0.000000</td>\n",
       "      <td>0.000000</td>\n",
       "      <td>0.000000</td>\n",
       "    </tr>\n",
       "    <tr>\n",
       "      <th>25%</th>\n",
       "      <td>0.269332</td>\n",
       "      <td>0.270548</td>\n",
       "      <td>0.275923</td>\n",
       "      <td>0.060636</td>\n",
       "    </tr>\n",
       "    <tr>\n",
       "      <th>50%</th>\n",
       "      <td>0.450791</td>\n",
       "      <td>0.443493</td>\n",
       "      <td>0.456063</td>\n",
       "      <td>0.102953</td>\n",
       "    </tr>\n",
       "    <tr>\n",
       "      <th>75%</th>\n",
       "      <td>0.736380</td>\n",
       "      <td>0.743151</td>\n",
       "      <td>0.745167</td>\n",
       "      <td>0.154353</td>\n",
       "    </tr>\n",
       "    <tr>\n",
       "      <th>max</th>\n",
       "      <td>1.000000</td>\n",
       "      <td>1.000000</td>\n",
       "      <td>1.000000</td>\n",
       "      <td>1.000000</td>\n",
       "    </tr>\n",
       "  </tbody>\n",
       "</table>\n",
       "</div>"
      ],
      "text/plain": [
       "             Open        High         Low      Volume\n",
       "count  494.000000  494.000000  494.000000  494.000000\n",
       "mean     0.489288    0.489885    0.499552    0.121847\n",
       "std      0.268807    0.264108    0.264492    0.099736\n",
       "min      0.000000    0.000000    0.000000    0.000000\n",
       "25%      0.269332    0.270548    0.275923    0.060636\n",
       "50%      0.450791    0.443493    0.456063    0.102953\n",
       "75%      0.736380    0.743151    0.745167    0.154353\n",
       "max      1.000000    1.000000    1.000000    1.000000"
      ]
     },
     "execution_count": 15,
     "metadata": {},
     "output_type": "execute_result"
    }
   ],
   "source": [
    "dfx.describe()"
   ]
  },
  {
   "cell_type": "code",
   "execution_count": 16,
   "id": "61cc0d0c-09e9-4e7f-bca1-1539ae7d9725",
   "metadata": {},
   "outputs": [],
   "source": [
    "# 두 데이터를 리스트 형태로 저장\n",
    "X = dfx.values.tolist()\n",
    "y = dfy.values.tolist()"
   ]
  },
  {
   "cell_type": "code",
   "execution_count": 17,
   "id": "722cf5c9-05ef-4271-90b0-55acdcdf87b8",
   "metadata": {},
   "outputs": [
    {
     "name": "stdout",
     "output_type": "stream",
     "text": [
      "[[0.3919156414755854, 0.38013698630071896, 0.4077328646741516, 0.0477940256769914], [0.5131810193312598, 0.49143835616354203, 0.4920913883998381, 0.34561971204960096], [0.5694200351483841, 0.5976027397250041, 0.579964850614095, 0.4966708248085812]] -> [0.6086206896541231]\n"
     ]
    }
   ],
   "source": [
    "window_size = 3\n",
    "\n",
    "data_X = []\n",
    "data_y = []\n",
    "for i in range(len(y) - window_size):\n",
    "    _X = X[i : i + window_size] # 다음 날 종가(i+windows_size)는 포함되지 않음\n",
    "    _y = y[i + window_size]     # 다음 날 종가\n",
    "    data_X.append(_X)\n",
    "    data_y.append(_y)\n",
    "print(_X, \"->\", _y)"
   ]
  },
  {
   "cell_type": "code",
   "execution_count": 18,
   "id": "31af158a-c3ca-4c81-b6a5-54132c71fe42",
   "metadata": {},
   "outputs": [
    {
     "name": "stdout",
     "output_type": "stream",
     "text": [
      "전체 데이터의 크기 : 491 491\n"
     ]
    }
   ],
   "source": [
    "print('전체 데이터의 크기 :', len(data_X), len(data_y))"
   ]
  },
  {
   "cell_type": "code",
   "execution_count": 19,
   "id": "b728431c-07c0-43f5-a9bc-1811b5c5fefd",
   "metadata": {},
   "outputs": [
    {
     "name": "stdout",
     "output_type": "stream",
     "text": [
      "훈련 데이터의 크기 : (343, 3, 4) (343, 1)\n",
      "테스트 데이터의 크기 : (148, 3, 4) (148, 1)\n"
     ]
    }
   ],
   "source": [
    "train_size = int(len(data_y) * 0.7)\n",
    "train_X = np.array(data_X[0 : train_size])\n",
    "train_y = np.array(data_y[0 : train_size])\n",
    "\n",
    "test_size = len(data_y) - train_size\n",
    "test_X = np.array(data_X[train_size : len(data_X)])\n",
    "test_y = np.array(data_y[train_size : len(data_y)])\n",
    "\n",
    "print('훈련 데이터의 크기 :', train_X.shape, train_y.shape)\n",
    "print('테스트 데이터의 크기 :', test_X.shape, test_y.shape)"
   ]
  },
  {
   "cell_type": "code",
   "execution_count": 20,
   "id": "f3891054-7c70-4ad2-bc3e-757f992e8921",
   "metadata": {},
   "outputs": [],
   "source": [
    "from tensorflow.keras import Sequential\n",
    "from tensorflow.keras.layers import Dense, LSTM, Dropout, RNN, SimpleRNN"
   ]
  },
  {
   "cell_type": "code",
   "execution_count": 21,
   "id": "db506854-a939-455d-8686-54a8b0dda458",
   "metadata": {},
   "outputs": [
    {
     "name": "stdout",
     "output_type": "stream",
     "text": [
      "Model: \"sequential\"\n",
      "_________________________________________________________________\n",
      " Layer (type)                Output Shape              Param #   \n",
      "=================================================================\n",
      " lstm (LSTM)                 (None, 3, 20)             2000      \n",
      "                                                                 \n",
      " dropout (Dropout)           (None, 3, 20)             0         \n",
      "                                                                 \n",
      " simple_rnn (SimpleRNN)      (None, 20)                820       \n",
      "                                                                 \n",
      " dropout_1 (Dropout)         (None, 20)                0         \n",
      "                                                                 \n",
      " dense (Dense)               (None, 1)                 21        \n",
      "                                                                 \n",
      "=================================================================\n",
      "Total params: 2841 (11.10 KB)\n",
      "Trainable params: 2841 (11.10 KB)\n",
      "Non-trainable params: 0 (0.00 Byte)\n",
      "_________________________________________________________________\n"
     ]
    }
   ],
   "source": [
    "model = Sequential()\n",
    "model.add(LSTM(units=20, activation='relu', return_sequences=True, input_shape=(3, 4)))\n",
    "model.add(Dropout(0.1))\n",
    "model.add(SimpleRNN(units=20, activation='relu'))\n",
    "model.add(Dropout(0.1))\n",
    "model.add(Dense(units=1))\n",
    "model.summary()"
   ]
  },
  {
   "cell_type": "code",
   "execution_count": 22,
   "id": "989000ea-af3e-4ec8-8894-9d9aaff237f4",
   "metadata": {},
   "outputs": [
    {
     "name": "stdout",
     "output_type": "stream",
     "text": [
      "Epoch 1/70\n",
      "12/12 [==============================] - 2s 3ms/step - loss: 0.3530\n",
      "Epoch 2/70\n",
      "12/12 [==============================] - 0s 2ms/step - loss: 0.2118\n",
      "Epoch 3/70\n",
      "12/12 [==============================] - 0s 3ms/step - loss: 0.1209\n",
      "Epoch 4/70\n",
      "12/12 [==============================] - 0s 2ms/step - loss: 0.0590\n",
      "Epoch 5/70\n",
      "12/12 [==============================] - 0s 3ms/step - loss: 0.0308\n",
      "Epoch 6/70\n",
      "12/12 [==============================] - 0s 3ms/step - loss: 0.0302\n",
      "Epoch 7/70\n",
      "12/12 [==============================] - 0s 3ms/step - loss: 0.0278\n",
      "Epoch 8/70\n",
      "12/12 [==============================] - 0s 3ms/step - loss: 0.0248\n",
      "Epoch 9/70\n",
      "12/12 [==============================] - 0s 3ms/step - loss: 0.0309\n",
      "Epoch 10/70\n",
      "12/12 [==============================] - 0s 3ms/step - loss: 0.0217\n",
      "Epoch 11/70\n",
      "12/12 [==============================] - 0s 2ms/step - loss: 0.0237\n",
      "Epoch 12/70\n",
      "12/12 [==============================] - 0s 2ms/step - loss: 0.0239\n",
      "Epoch 13/70\n",
      "12/12 [==============================] - 0s 2ms/step - loss: 0.0207\n",
      "Epoch 14/70\n",
      "12/12 [==============================] - 0s 2ms/step - loss: 0.0189\n",
      "Epoch 15/70\n",
      "12/12 [==============================] - 0s 2ms/step - loss: 0.0186\n",
      "Epoch 16/70\n",
      "12/12 [==============================] - 0s 2ms/step - loss: 0.0176\n",
      "Epoch 17/70\n",
      "12/12 [==============================] - 0s 2ms/step - loss: 0.0165\n",
      "Epoch 18/70\n",
      "12/12 [==============================] - 0s 2ms/step - loss: 0.0149\n",
      "Epoch 19/70\n",
      "12/12 [==============================] - 0s 3ms/step - loss: 0.0136\n",
      "Epoch 20/70\n",
      "12/12 [==============================] - 0s 3ms/step - loss: 0.0146\n",
      "Epoch 21/70\n",
      "12/12 [==============================] - 0s 3ms/step - loss: 0.0141\n",
      "Epoch 22/70\n",
      "12/12 [==============================] - 0s 2ms/step - loss: 0.0153\n",
      "Epoch 23/70\n",
      "12/12 [==============================] - 0s 2ms/step - loss: 0.0126\n",
      "Epoch 24/70\n",
      "12/12 [==============================] - 0s 2ms/step - loss: 0.0129\n",
      "Epoch 25/70\n",
      "12/12 [==============================] - 0s 2ms/step - loss: 0.0136\n",
      "Epoch 26/70\n",
      "12/12 [==============================] - 0s 3ms/step - loss: 0.0118\n",
      "Epoch 27/70\n",
      "12/12 [==============================] - 0s 3ms/step - loss: 0.0108\n",
      "Epoch 28/70\n",
      "12/12 [==============================] - 0s 2ms/step - loss: 0.0120\n",
      "Epoch 29/70\n",
      "12/12 [==============================] - 0s 2ms/step - loss: 0.0126\n",
      "Epoch 30/70\n",
      "12/12 [==============================] - 0s 2ms/step - loss: 0.0138\n",
      "Epoch 31/70\n",
      "12/12 [==============================] - 0s 2ms/step - loss: 0.0113\n",
      "Epoch 32/70\n",
      "12/12 [==============================] - 0s 2ms/step - loss: 0.0124\n",
      "Epoch 33/70\n",
      "12/12 [==============================] - 0s 3ms/step - loss: 0.0101\n",
      "Epoch 34/70\n",
      "12/12 [==============================] - 0s 2ms/step - loss: 0.0099\n",
      "Epoch 35/70\n",
      "12/12 [==============================] - 0s 2ms/step - loss: 0.0111\n",
      "Epoch 36/70\n",
      "12/12 [==============================] - 0s 2ms/step - loss: 0.0113\n",
      "Epoch 37/70\n",
      "12/12 [==============================] - 0s 2ms/step - loss: 0.0102\n",
      "Epoch 38/70\n",
      "12/12 [==============================] - 0s 2ms/step - loss: 0.0125\n",
      "Epoch 39/70\n",
      "12/12 [==============================] - 0s 2ms/step - loss: 0.0114\n",
      "Epoch 40/70\n",
      "12/12 [==============================] - 0s 2ms/step - loss: 0.0121\n",
      "Epoch 41/70\n",
      "12/12 [==============================] - 0s 2ms/step - loss: 0.0094\n",
      "Epoch 42/70\n",
      "12/12 [==============================] - 0s 3ms/step - loss: 0.0100\n",
      "Epoch 43/70\n",
      "12/12 [==============================] - 0s 2ms/step - loss: 0.0103\n",
      "Epoch 44/70\n",
      "12/12 [==============================] - 0s 2ms/step - loss: 0.0110\n",
      "Epoch 45/70\n",
      "12/12 [==============================] - 0s 2ms/step - loss: 0.0100\n",
      "Epoch 46/70\n",
      "12/12 [==============================] - 0s 2ms/step - loss: 0.0098\n",
      "Epoch 47/70\n",
      "12/12 [==============================] - 0s 4ms/step - loss: 0.0084\n",
      "Epoch 48/70\n",
      "12/12 [==============================] - 0s 3ms/step - loss: 0.0102\n",
      "Epoch 49/70\n",
      "12/12 [==============================] - 0s 2ms/step - loss: 0.0101\n",
      "Epoch 50/70\n",
      "12/12 [==============================] - 0s 2ms/step - loss: 0.0102\n",
      "Epoch 51/70\n",
      "12/12 [==============================] - 0s 2ms/step - loss: 0.0094\n",
      "Epoch 52/70\n",
      "12/12 [==============================] - 0s 2ms/step - loss: 0.0093\n",
      "Epoch 53/70\n",
      "12/12 [==============================] - 0s 2ms/step - loss: 0.0100\n",
      "Epoch 54/70\n",
      "12/12 [==============================] - 0s 3ms/step - loss: 0.0088\n",
      "Epoch 55/70\n",
      "12/12 [==============================] - 0s 2ms/step - loss: 0.0091\n",
      "Epoch 56/70\n",
      "12/12 [==============================] - 0s 2ms/step - loss: 0.0108\n",
      "Epoch 57/70\n",
      "12/12 [==============================] - 0s 2ms/step - loss: 0.0081\n",
      "Epoch 58/70\n",
      "12/12 [==============================] - 0s 2ms/step - loss: 0.0107\n",
      "Epoch 59/70\n",
      "12/12 [==============================] - 0s 2ms/step - loss: 0.0093\n",
      "Epoch 60/70\n",
      "12/12 [==============================] - 0s 2ms/step - loss: 0.0083\n",
      "Epoch 61/70\n",
      "12/12 [==============================] - 0s 2ms/step - loss: 0.0086\n",
      "Epoch 62/70\n",
      "12/12 [==============================] - 0s 2ms/step - loss: 0.0087\n",
      "Epoch 63/70\n",
      "12/12 [==============================] - 0s 2ms/step - loss: 0.0080\n",
      "Epoch 64/70\n",
      "12/12 [==============================] - 0s 3ms/step - loss: 0.0088\n",
      "Epoch 65/70\n",
      "12/12 [==============================] - 0s 3ms/step - loss: 0.0073\n",
      "Epoch 66/70\n",
      "12/12 [==============================] - 0s 3ms/step - loss: 0.0089\n",
      "Epoch 67/70\n",
      "12/12 [==============================] - 0s 2ms/step - loss: 0.0094\n",
      "Epoch 68/70\n",
      "12/12 [==============================] - 0s 2ms/step - loss: 0.0099\n",
      "Epoch 69/70\n",
      "12/12 [==============================] - 0s 2ms/step - loss: 0.0105\n",
      "Epoch 70/70\n",
      "12/12 [==============================] - 0s 2ms/step - loss: 0.0077\n",
      "5/5 [==============================] - 0s 1ms/step\n"
     ]
    }
   ],
   "source": [
    "model.compile(optimizer='adam', loss='mean_squared_error')\n",
    "model.fit(train_X, train_y, epochs=70, batch_size=30)\n",
    "pred_y = model.predict(test_X)"
   ]
  },
  {
   "cell_type": "code",
   "execution_count": 23,
   "id": "34ef0fab-dc5b-409d-8d57-c2155e6ad6bb",
   "metadata": {},
   "outputs": [
    {
     "name": "stdout",
     "output_type": "stream",
     "text": [
      "5/5 [==============================] - 0s 2ms/step - loss: 0.0057\n"
     ]
    },
    {
     "data": {
      "text/plain": [
       "0.005697597749531269"
      ]
     },
     "execution_count": 23,
     "metadata": {},
     "output_type": "execute_result"
    }
   ],
   "source": [
    "model.evaluate(test_X, test_y)"
   ]
  },
  {
   "cell_type": "code",
   "execution_count": 24,
   "id": "314858b6-e534-48b0-b356-864ee388d8a1",
   "metadata": {},
   "outputs": [
    {
     "name": "stdout",
     "output_type": "stream",
     "text": [
      "5/5 [==============================] - 0s 1ms/step\n"
     ]
    }
   ],
   "source": [
    "\n",
    "y_pred = model.predict(test_X)"
   ]
  },
  {
   "cell_type": "code",
   "execution_count": 25,
   "id": "1dd71651-5277-4c1b-858d-fa41a539be7b",
   "metadata": {},
   "outputs": [
    {
     "name": "stdout",
     "output_type": "stream",
     "text": [
      "MSE: 0.005697597769743881\n"
     ]
    }
   ],
   "source": [
    "mse = tf.reduce_mean(tf.square(test_y - y_pred))\n",
    "\n",
    "print(f'MSE: {mse.numpy()}')"
   ]
  },
  {
   "cell_type": "code",
   "execution_count": 26,
   "id": "ebc8c146-e620-4664-8f73-3816904640c9",
   "metadata": {},
   "outputs": [
    {
     "name": "stdout",
     "output_type": "stream",
     "text": [
      "5/5 [==============================] - 0s 2ms/step\n"
     ]
    },
    {
     "data": {
      "image/png": "[encoded data removed]",
      "text/plain": [
       "<Figure size 640x480 with 1 Axes>"
      ]
     },
     "metadata": {},
     "output_type": "display_data"
    }
   ],
   "source": [
    "pred_y = model.predict(test_X)\n",
    "\n",
    "plt.figure()\n",
    "plt.plot(test_y, color='red', label='real stock price')\n",
    "plt.plot(pred_y, color='blue', label='predicted stock price')\n",
    "plt.title('stock price prediction')\n",
    "plt.xlabel('time')\n",
    "plt.ylabel('stock price')\n",
    "plt.legend()\n",
    "plt.show()"
   ]
  },
  {
   "cell_type": "code",
   "execution_count": null,
   "id": "7592ce9e-a34b-4280-8103-d6b0db98d75a",
   "metadata": {},
   "outputs": [],
   "source": []
  }
 ],
 "metadata": {
  "kernelspec": {
   "display_name": "Python 3 (ipykernel)",
   "language": "python",
   "name": "python3"
  },
  "language_info": {
   "codemirror_mode": {
    "name": "ipython",
    "version": 3
   },
   "file_extension": ".py",
   "mimetype": "text/x-python",
   "name": "python",
   "nbconvert_exporter": "python",
   "pygments_lexer": "ipython3",
   "version": "3.11.5"
  }
 },
 "nbformat": 4,
 "nbformat_minor": 5
}
